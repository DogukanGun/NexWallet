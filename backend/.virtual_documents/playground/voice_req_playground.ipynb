!pip install TTS
from TTS.api import TTS
import torch
!pip install simpleaudio
import simpleaudio as sa
from TTS.tts.configs.xtts_config import XttsConfig,XttsArgs
from TTS.config.shared_configs import BaseDatasetConfig


device = "cuda" if torch.cuda.is_available() else "cpu"
print(TTS().list_models())
torch.serialization.add_safe_globals([XttsArgs])
# Initialize TTS with specific config
tts = TTS("tts_models/multilingual/multi-dataset/xtts_v2").to(device)


wav_path = "output.wav"
tts.tts_to_file(text="Hello world!", speaker_wav="my/cloning/audio.wav", language="en", file_path=wav_path)
# Play the generated WAV file
wave_obj = sa.WaveObject.from_wave_file(wav_path)
play_obj = wave_obj.play()
play_obj.wait_done() 



