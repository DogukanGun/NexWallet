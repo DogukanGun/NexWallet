{
 "cells": [
  {
   "cell_type": "code",
   "id": "initial_id",
   "metadata": {
    "ExecuteTime": {
     "end_time": "2025-03-20T22:19:56.041639Z",
     "start_time": "2025-03-20T22:19:54.229398Z"
    }
   },
   "source": [
    "!pip install TTS\n",
    "from TTS.api import TTS\n",
    "import torch\n",
    "!pip install simpleaudio\n",
    "import simpleaudio as sa\n",
    "from TTS.tts.configs.xtts_config import XttsConfig,XttsArgs\n",
    "from TTS.config.shared_configs import BaseDatasetConfig"
   ],
   "outputs": [
    {
     "name": "stdout",
     "output_type": "stream",
     "text": [
      "Requirement already satisfied: TTS in /Users/dogukangundogan/Library/Caches/pypoetry/virtualenvs/nexai-backend-rybVfxlQ-py3.11/lib/python3.11/site-packages (0.22.0)\r\n",
      "Requirement already satisfied: numpy>=1.24.3 in /Users/dogukangundogan/Library/Caches/pypoetry/virtualenvs/nexai-backend-rybVfxlQ-py3.11/lib/python3.11/site-packages (from TTS) (1.26.4)\r\n",
      "Requirement already satisfied: cython>=0.29.30 in /Users/dogukangundogan/Library/Caches/pypoetry/virtualenvs/nexai-backend-rybVfxlQ-py3.11/lib/python3.11/site-packages (from TTS) (3.0.12)\r\n",
      "Requirement already satisfied: scipy>=1.11.2 in /Users/dogukangundogan/Library/Caches/pypoetry/virtualenvs/nexai-backend-rybVfxlQ-py3.11/lib/python3.11/site-packages (from TTS) (1.15.2)\r\n",
      "Requirement already satisfied: torch>=2.1 in /Users/dogukangundogan/Library/Caches/pypoetry/virtualenvs/nexai-backend-rybVfxlQ-py3.11/lib/python3.11/site-packages (from TTS) (2.6.0)\r\n",
      "Requirement already satisfied: torchaudio in /Users/dogukangundogan/Library/Caches/pypoetry/virtualenvs/nexai-backend-rybVfxlQ-py3.11/lib/python3.11/site-packages (from TTS) (2.6.0)\r\n",
      "Requirement already satisfied: soundfile>=0.12.0 in /Users/dogukangundogan/Library/Caches/pypoetry/virtualenvs/nexai-backend-rybVfxlQ-py3.11/lib/python3.11/site-packages (from TTS) (0.13.1)\r\n",
      "Requirement already satisfied: librosa>=0.10.0 in /Users/dogukangundogan/Library/Caches/pypoetry/virtualenvs/nexai-backend-rybVfxlQ-py3.11/lib/python3.11/site-packages (from TTS) (0.11.0)\r\n",
      "Requirement already satisfied: scikit-learn>=1.3.0 in /Users/dogukangundogan/Library/Caches/pypoetry/virtualenvs/nexai-backend-rybVfxlQ-py3.11/lib/python3.11/site-packages (from TTS) (1.6.1)\r\n",
      "Requirement already satisfied: numba>=0.57.0 in /Users/dogukangundogan/Library/Caches/pypoetry/virtualenvs/nexai-backend-rybVfxlQ-py3.11/lib/python3.11/site-packages (from TTS) (0.61.0)\r\n",
      "Requirement already satisfied: inflect>=5.6.0 in /Users/dogukangundogan/Library/Caches/pypoetry/virtualenvs/nexai-backend-rybVfxlQ-py3.11/lib/python3.11/site-packages (from TTS) (7.5.0)\r\n",
      "Requirement already satisfied: tqdm>=4.64.1 in /Users/dogukangundogan/Library/Caches/pypoetry/virtualenvs/nexai-backend-rybVfxlQ-py3.11/lib/python3.11/site-packages (from TTS) (4.67.1)\r\n",
      "Requirement already satisfied: anyascii>=0.3.0 in /Users/dogukangundogan/Library/Caches/pypoetry/virtualenvs/nexai-backend-rybVfxlQ-py3.11/lib/python3.11/site-packages (from TTS) (0.3.2)\r\n",
      "Requirement already satisfied: pyyaml>=6.0 in /Users/dogukangundogan/Library/Caches/pypoetry/virtualenvs/nexai-backend-rybVfxlQ-py3.11/lib/python3.11/site-packages (from TTS) (6.0.2)\r\n",
      "Requirement already satisfied: fsspec>=2023.6.0 in /Users/dogukangundogan/Library/Caches/pypoetry/virtualenvs/nexai-backend-rybVfxlQ-py3.11/lib/python3.11/site-packages (from TTS) (2025.3.0)\r\n",
      "Requirement already satisfied: aiohttp>=3.8.1 in /Users/dogukangundogan/Library/Caches/pypoetry/virtualenvs/nexai-backend-rybVfxlQ-py3.11/lib/python3.11/site-packages (from TTS) (3.11.14)\r\n",
      "Requirement already satisfied: packaging>=23.1 in /Users/dogukangundogan/Library/Caches/pypoetry/virtualenvs/nexai-backend-rybVfxlQ-py3.11/lib/python3.11/site-packages (from TTS) (24.2)\r\n",
      "Requirement already satisfied: flask>=2.0.1 in /Users/dogukangundogan/Library/Caches/pypoetry/virtualenvs/nexai-backend-rybVfxlQ-py3.11/lib/python3.11/site-packages (from TTS) (3.1.0)\r\n",
      "Requirement already satisfied: pysbd>=0.3.4 in /Users/dogukangundogan/Library/Caches/pypoetry/virtualenvs/nexai-backend-rybVfxlQ-py3.11/lib/python3.11/site-packages (from TTS) (0.3.4)\r\n",
      "Requirement already satisfied: umap-learn>=0.5.1 in /Users/dogukangundogan/Library/Caches/pypoetry/virtualenvs/nexai-backend-rybVfxlQ-py3.11/lib/python3.11/site-packages (from TTS) (0.5.7)\r\n",
      "Requirement already satisfied: pandas<2.0,>=1.4 in /Users/dogukangundogan/Library/Caches/pypoetry/virtualenvs/nexai-backend-rybVfxlQ-py3.11/lib/python3.11/site-packages (from TTS) (1.5.3)\r\n",
      "Requirement already satisfied: matplotlib>=3.7.0 in /Users/dogukangundogan/Library/Caches/pypoetry/virtualenvs/nexai-backend-rybVfxlQ-py3.11/lib/python3.11/site-packages (from TTS) (3.10.1)\r\n",
      "Requirement already satisfied: trainer>=0.0.32 in /Users/dogukangundogan/Library/Caches/pypoetry/virtualenvs/nexai-backend-rybVfxlQ-py3.11/lib/python3.11/site-packages (from TTS) (0.0.36)\r\n",
      "Requirement already satisfied: coqpit>=0.0.16 in /Users/dogukangundogan/Library/Caches/pypoetry/virtualenvs/nexai-backend-rybVfxlQ-py3.11/lib/python3.11/site-packages (from TTS) (0.0.17)\r\n",
      "Requirement already satisfied: jieba in /Users/dogukangundogan/Library/Caches/pypoetry/virtualenvs/nexai-backend-rybVfxlQ-py3.11/lib/python3.11/site-packages (from TTS) (0.42.1)\r\n",
      "Requirement already satisfied: pypinyin in /Users/dogukangundogan/Library/Caches/pypoetry/virtualenvs/nexai-backend-rybVfxlQ-py3.11/lib/python3.11/site-packages (from TTS) (0.53.0)\r\n",
      "Requirement already satisfied: hangul_romanize in /Users/dogukangundogan/Library/Caches/pypoetry/virtualenvs/nexai-backend-rybVfxlQ-py3.11/lib/python3.11/site-packages (from TTS) (0.1.0)\r\n",
      "Requirement already satisfied: gruut==2.2.3 in /Users/dogukangundogan/Library/Caches/pypoetry/virtualenvs/nexai-backend-rybVfxlQ-py3.11/lib/python3.11/site-packages (from gruut[de,es,fr]==2.2.3->TTS) (2.2.3)\r\n",
      "Requirement already satisfied: jamo in /Users/dogukangundogan/Library/Caches/pypoetry/virtualenvs/nexai-backend-rybVfxlQ-py3.11/lib/python3.11/site-packages (from TTS) (0.4.1)\r\n",
      "Requirement already satisfied: nltk in /Users/dogukangundogan/Library/Caches/pypoetry/virtualenvs/nexai-backend-rybVfxlQ-py3.11/lib/python3.11/site-packages (from TTS) (3.9.1)\r\n",
      "Requirement already satisfied: g2pkk>=0.1.1 in /Users/dogukangundogan/Library/Caches/pypoetry/virtualenvs/nexai-backend-rybVfxlQ-py3.11/lib/python3.11/site-packages (from TTS) (0.1.2)\r\n",
      "Requirement already satisfied: bangla in /Users/dogukangundogan/Library/Caches/pypoetry/virtualenvs/nexai-backend-rybVfxlQ-py3.11/lib/python3.11/site-packages (from TTS) (0.0.2)\r\n",
      "Requirement already satisfied: bnnumerizer in /Users/dogukangundogan/Library/Caches/pypoetry/virtualenvs/nexai-backend-rybVfxlQ-py3.11/lib/python3.11/site-packages (from TTS) (0.0.2)\r\n",
      "Requirement already satisfied: bnunicodenormalizer in /Users/dogukangundogan/Library/Caches/pypoetry/virtualenvs/nexai-backend-rybVfxlQ-py3.11/lib/python3.11/site-packages (from TTS) (0.1.7)\r\n",
      "Requirement already satisfied: einops>=0.6.0 in /Users/dogukangundogan/Library/Caches/pypoetry/virtualenvs/nexai-backend-rybVfxlQ-py3.11/lib/python3.11/site-packages (from TTS) (0.8.1)\r\n",
      "Requirement already satisfied: transformers>=4.33.0 in /Users/dogukangundogan/Library/Caches/pypoetry/virtualenvs/nexai-backend-rybVfxlQ-py3.11/lib/python3.11/site-packages (from TTS) (4.49.0)\r\n",
      "Requirement already satisfied: encodec>=0.1.1 in /Users/dogukangundogan/Library/Caches/pypoetry/virtualenvs/nexai-backend-rybVfxlQ-py3.11/lib/python3.11/site-packages (from TTS) (0.1.1)\r\n",
      "Requirement already satisfied: unidecode>=1.3.2 in /Users/dogukangundogan/Library/Caches/pypoetry/virtualenvs/nexai-backend-rybVfxlQ-py3.11/lib/python3.11/site-packages (from TTS) (1.3.8)\r\n",
      "Requirement already satisfied: num2words in /Users/dogukangundogan/Library/Caches/pypoetry/virtualenvs/nexai-backend-rybVfxlQ-py3.11/lib/python3.11/site-packages (from TTS) (0.5.14)\r\n",
      "Requirement already satisfied: spacy>=3 in /Users/dogukangundogan/Library/Caches/pypoetry/virtualenvs/nexai-backend-rybVfxlQ-py3.11/lib/python3.11/site-packages (from spacy[ja]>=3->TTS) (3.8.4)\r\n",
      "Requirement already satisfied: Babel<3.0.0,>=2.8.0 in /Users/dogukangundogan/Library/Caches/pypoetry/virtualenvs/nexai-backend-rybVfxlQ-py3.11/lib/python3.11/site-packages (from gruut==2.2.3->gruut[de,es,fr]==2.2.3->TTS) (2.17.0)\r\n",
      "Requirement already satisfied: dateparser~=1.1.0 in /Users/dogukangundogan/Library/Caches/pypoetry/virtualenvs/nexai-backend-rybVfxlQ-py3.11/lib/python3.11/site-packages (from gruut==2.2.3->gruut[de,es,fr]==2.2.3->TTS) (1.1.8)\r\n",
      "Requirement already satisfied: gruut-ipa<1.0,>=0.12.0 in /Users/dogukangundogan/Library/Caches/pypoetry/virtualenvs/nexai-backend-rybVfxlQ-py3.11/lib/python3.11/site-packages (from gruut==2.2.3->gruut[de,es,fr]==2.2.3->TTS) (0.13.0)\r\n",
      "Requirement already satisfied: gruut_lang_en~=2.0.0 in /Users/dogukangundogan/Library/Caches/pypoetry/virtualenvs/nexai-backend-rybVfxlQ-py3.11/lib/python3.11/site-packages (from gruut==2.2.3->gruut[de,es,fr]==2.2.3->TTS) (2.0.1)\r\n",
      "Requirement already satisfied: jsonlines~=1.2.0 in /Users/dogukangundogan/Library/Caches/pypoetry/virtualenvs/nexai-backend-rybVfxlQ-py3.11/lib/python3.11/site-packages (from gruut==2.2.3->gruut[de,es,fr]==2.2.3->TTS) (1.2.0)\r\n",
      "Requirement already satisfied: networkx<3.0.0,>=2.5.0 in /Users/dogukangundogan/Library/Caches/pypoetry/virtualenvs/nexai-backend-rybVfxlQ-py3.11/lib/python3.11/site-packages (from gruut==2.2.3->gruut[de,es,fr]==2.2.3->TTS) (2.8.8)\r\n",
      "Requirement already satisfied: python-crfsuite~=0.9.7 in /Users/dogukangundogan/Library/Caches/pypoetry/virtualenvs/nexai-backend-rybVfxlQ-py3.11/lib/python3.11/site-packages (from gruut==2.2.3->gruut[de,es,fr]==2.2.3->TTS) (0.9.11)\r\n",
      "Requirement already satisfied: gruut_lang_de~=2.0.0 in /Users/dogukangundogan/Library/Caches/pypoetry/virtualenvs/nexai-backend-rybVfxlQ-py3.11/lib/python3.11/site-packages (from gruut[de,es,fr]==2.2.3->TTS) (2.0.1)\r\n",
      "Requirement already satisfied: gruut_lang_es~=2.0.0 in /Users/dogukangundogan/Library/Caches/pypoetry/virtualenvs/nexai-backend-rybVfxlQ-py3.11/lib/python3.11/site-packages (from gruut[de,es,fr]==2.2.3->TTS) (2.0.1)\r\n",
      "Requirement already satisfied: gruut_lang_fr~=2.0.0 in /Users/dogukangundogan/Library/Caches/pypoetry/virtualenvs/nexai-backend-rybVfxlQ-py3.11/lib/python3.11/site-packages (from gruut[de,es,fr]==2.2.3->TTS) (2.0.2)\r\n",
      "Requirement already satisfied: aiohappyeyeballs>=2.3.0 in /Users/dogukangundogan/Library/Caches/pypoetry/virtualenvs/nexai-backend-rybVfxlQ-py3.11/lib/python3.11/site-packages (from aiohttp>=3.8.1->TTS) (2.6.1)\r\n",
      "Requirement already satisfied: aiosignal>=1.1.2 in /Users/dogukangundogan/Library/Caches/pypoetry/virtualenvs/nexai-backend-rybVfxlQ-py3.11/lib/python3.11/site-packages (from aiohttp>=3.8.1->TTS) (1.3.2)\r\n",
      "Requirement already satisfied: attrs>=17.3.0 in /Users/dogukangundogan/Library/Caches/pypoetry/virtualenvs/nexai-backend-rybVfxlQ-py3.11/lib/python3.11/site-packages (from aiohttp>=3.8.1->TTS) (25.3.0)\r\n",
      "Requirement already satisfied: frozenlist>=1.1.1 in /Users/dogukangundogan/Library/Caches/pypoetry/virtualenvs/nexai-backend-rybVfxlQ-py3.11/lib/python3.11/site-packages (from aiohttp>=3.8.1->TTS) (1.5.0)\r\n",
      "Requirement already satisfied: multidict<7.0,>=4.5 in /Users/dogukangundogan/Library/Caches/pypoetry/virtualenvs/nexai-backend-rybVfxlQ-py3.11/lib/python3.11/site-packages (from aiohttp>=3.8.1->TTS) (6.2.0)\r\n",
      "Requirement already satisfied: propcache>=0.2.0 in /Users/dogukangundogan/Library/Caches/pypoetry/virtualenvs/nexai-backend-rybVfxlQ-py3.11/lib/python3.11/site-packages (from aiohttp>=3.8.1->TTS) (0.3.0)\r\n",
      "Requirement already satisfied: yarl<2.0,>=1.17.0 in /Users/dogukangundogan/Library/Caches/pypoetry/virtualenvs/nexai-backend-rybVfxlQ-py3.11/lib/python3.11/site-packages (from aiohttp>=3.8.1->TTS) (1.18.3)\r\n",
      "Requirement already satisfied: Werkzeug>=3.1 in /Users/dogukangundogan/Library/Caches/pypoetry/virtualenvs/nexai-backend-rybVfxlQ-py3.11/lib/python3.11/site-packages (from flask>=2.0.1->TTS) (3.1.3)\r\n",
      "Requirement already satisfied: Jinja2>=3.1.2 in /Users/dogukangundogan/Library/Caches/pypoetry/virtualenvs/nexai-backend-rybVfxlQ-py3.11/lib/python3.11/site-packages (from flask>=2.0.1->TTS) (3.1.6)\r\n",
      "Requirement already satisfied: itsdangerous>=2.2 in /Users/dogukangundogan/Library/Caches/pypoetry/virtualenvs/nexai-backend-rybVfxlQ-py3.11/lib/python3.11/site-packages (from flask>=2.0.1->TTS) (2.2.0)\r\n",
      "Requirement already satisfied: click>=8.1.3 in /Users/dogukangundogan/Library/Caches/pypoetry/virtualenvs/nexai-backend-rybVfxlQ-py3.11/lib/python3.11/site-packages (from flask>=2.0.1->TTS) (8.1.8)\r\n",
      "Requirement already satisfied: blinker>=1.9 in /Users/dogukangundogan/Library/Caches/pypoetry/virtualenvs/nexai-backend-rybVfxlQ-py3.11/lib/python3.11/site-packages (from flask>=2.0.1->TTS) (1.9.0)\r\n",
      "Requirement already satisfied: more_itertools>=8.5.0 in /Users/dogukangundogan/Library/Caches/pypoetry/virtualenvs/nexai-backend-rybVfxlQ-py3.11/lib/python3.11/site-packages (from inflect>=5.6.0->TTS) (10.6.0)\r\n",
      "Requirement already satisfied: typeguard>=4.0.1 in /Users/dogukangundogan/Library/Caches/pypoetry/virtualenvs/nexai-backend-rybVfxlQ-py3.11/lib/python3.11/site-packages (from inflect>=5.6.0->TTS) (4.4.2)\r\n",
      "Requirement already satisfied: audioread>=2.1.9 in /Users/dogukangundogan/Library/Caches/pypoetry/virtualenvs/nexai-backend-rybVfxlQ-py3.11/lib/python3.11/site-packages (from librosa>=0.10.0->TTS) (3.0.1)\r\n",
      "Requirement already satisfied: joblib>=1.0 in /Users/dogukangundogan/Library/Caches/pypoetry/virtualenvs/nexai-backend-rybVfxlQ-py3.11/lib/python3.11/site-packages (from librosa>=0.10.0->TTS) (1.4.2)\r\n",
      "Requirement already satisfied: decorator>=4.3.0 in /Users/dogukangundogan/Library/Caches/pypoetry/virtualenvs/nexai-backend-rybVfxlQ-py3.11/lib/python3.11/site-packages (from librosa>=0.10.0->TTS) (5.2.1)\r\n",
      "Requirement already satisfied: pooch>=1.1 in /Users/dogukangundogan/Library/Caches/pypoetry/virtualenvs/nexai-backend-rybVfxlQ-py3.11/lib/python3.11/site-packages (from librosa>=0.10.0->TTS) (1.8.2)\r\n",
      "Requirement already satisfied: soxr>=0.3.2 in /Users/dogukangundogan/Library/Caches/pypoetry/virtualenvs/nexai-backend-rybVfxlQ-py3.11/lib/python3.11/site-packages (from librosa>=0.10.0->TTS) (0.5.0.post1)\r\n",
      "Requirement already satisfied: typing_extensions>=4.1.1 in /Users/dogukangundogan/Library/Caches/pypoetry/virtualenvs/nexai-backend-rybVfxlQ-py3.11/lib/python3.11/site-packages (from librosa>=0.10.0->TTS) (4.12.2)\r\n",
      "Requirement already satisfied: lazy_loader>=0.1 in /Users/dogukangundogan/Library/Caches/pypoetry/virtualenvs/nexai-backend-rybVfxlQ-py3.11/lib/python3.11/site-packages (from librosa>=0.10.0->TTS) (0.4)\r\n",
      "Requirement already satisfied: msgpack>=1.0 in /Users/dogukangundogan/Library/Caches/pypoetry/virtualenvs/nexai-backend-rybVfxlQ-py3.11/lib/python3.11/site-packages (from librosa>=0.10.0->TTS) (1.1.0)\r\n",
      "Requirement already satisfied: contourpy>=1.0.1 in /Users/dogukangundogan/Library/Caches/pypoetry/virtualenvs/nexai-backend-rybVfxlQ-py3.11/lib/python3.11/site-packages (from matplotlib>=3.7.0->TTS) (1.3.1)\r\n",
      "Requirement already satisfied: cycler>=0.10 in /Users/dogukangundogan/Library/Caches/pypoetry/virtualenvs/nexai-backend-rybVfxlQ-py3.11/lib/python3.11/site-packages (from matplotlib>=3.7.0->TTS) (0.12.1)\r\n",
      "Requirement already satisfied: fonttools>=4.22.0 in /Users/dogukangundogan/Library/Caches/pypoetry/virtualenvs/nexai-backend-rybVfxlQ-py3.11/lib/python3.11/site-packages (from matplotlib>=3.7.0->TTS) (4.56.0)\r\n",
      "Requirement already satisfied: kiwisolver>=1.3.1 in /Users/dogukangundogan/Library/Caches/pypoetry/virtualenvs/nexai-backend-rybVfxlQ-py3.11/lib/python3.11/site-packages (from matplotlib>=3.7.0->TTS) (1.4.8)\r\n",
      "Requirement already satisfied: pillow>=8 in /Users/dogukangundogan/Library/Caches/pypoetry/virtualenvs/nexai-backend-rybVfxlQ-py3.11/lib/python3.11/site-packages (from matplotlib>=3.7.0->TTS) (11.1.0)\r\n",
      "Requirement already satisfied: pyparsing>=2.3.1 in /Users/dogukangundogan/Library/Caches/pypoetry/virtualenvs/nexai-backend-rybVfxlQ-py3.11/lib/python3.11/site-packages (from matplotlib>=3.7.0->TTS) (3.2.1)\r\n",
      "Requirement already satisfied: python-dateutil>=2.7 in /Users/dogukangundogan/Library/Caches/pypoetry/virtualenvs/nexai-backend-rybVfxlQ-py3.11/lib/python3.11/site-packages (from matplotlib>=3.7.0->TTS) (2.9.0.post0)\r\n",
      "Requirement already satisfied: docopt>=0.6.2 in /Users/dogukangundogan/Library/Caches/pypoetry/virtualenvs/nexai-backend-rybVfxlQ-py3.11/lib/python3.11/site-packages (from num2words->TTS) (0.6.2)\r\n",
      "Requirement already satisfied: llvmlite<0.45,>=0.44.0dev0 in /Users/dogukangundogan/Library/Caches/pypoetry/virtualenvs/nexai-backend-rybVfxlQ-py3.11/lib/python3.11/site-packages (from numba>=0.57.0->TTS) (0.44.0)\r\n",
      "Requirement already satisfied: pytz>=2020.1 in /Users/dogukangundogan/Library/Caches/pypoetry/virtualenvs/nexai-backend-rybVfxlQ-py3.11/lib/python3.11/site-packages (from pandas<2.0,>=1.4->TTS) (2025.1)\r\n",
      "Requirement already satisfied: threadpoolctl>=3.1.0 in /Users/dogukangundogan/Library/Caches/pypoetry/virtualenvs/nexai-backend-rybVfxlQ-py3.11/lib/python3.11/site-packages (from scikit-learn>=1.3.0->TTS) (3.6.0)\r\n",
      "Requirement already satisfied: cffi>=1.0 in /Users/dogukangundogan/Library/Caches/pypoetry/virtualenvs/nexai-backend-rybVfxlQ-py3.11/lib/python3.11/site-packages (from soundfile>=0.12.0->TTS) (1.17.1)\r\n",
      "Requirement already satisfied: spacy-legacy<3.1.0,>=3.0.11 in /Users/dogukangundogan/Library/Caches/pypoetry/virtualenvs/nexai-backend-rybVfxlQ-py3.11/lib/python3.11/site-packages (from spacy>=3->spacy[ja]>=3->TTS) (3.0.12)\r\n",
      "Requirement already satisfied: spacy-loggers<2.0.0,>=1.0.0 in /Users/dogukangundogan/Library/Caches/pypoetry/virtualenvs/nexai-backend-rybVfxlQ-py3.11/lib/python3.11/site-packages (from spacy>=3->spacy[ja]>=3->TTS) (1.0.5)\r\n",
      "Requirement already satisfied: murmurhash<1.1.0,>=0.28.0 in /Users/dogukangundogan/Library/Caches/pypoetry/virtualenvs/nexai-backend-rybVfxlQ-py3.11/lib/python3.11/site-packages (from spacy>=3->spacy[ja]>=3->TTS) (1.0.12)\r\n",
      "Requirement already satisfied: cymem<2.1.0,>=2.0.2 in /Users/dogukangundogan/Library/Caches/pypoetry/virtualenvs/nexai-backend-rybVfxlQ-py3.11/lib/python3.11/site-packages (from spacy>=3->spacy[ja]>=3->TTS) (2.0.11)\r\n",
      "Requirement already satisfied: preshed<3.1.0,>=3.0.2 in /Users/dogukangundogan/Library/Caches/pypoetry/virtualenvs/nexai-backend-rybVfxlQ-py3.11/lib/python3.11/site-packages (from spacy>=3->spacy[ja]>=3->TTS) (3.0.9)\r\n",
      "Requirement already satisfied: thinc<8.4.0,>=8.3.4 in /Users/dogukangundogan/Library/Caches/pypoetry/virtualenvs/nexai-backend-rybVfxlQ-py3.11/lib/python3.11/site-packages (from spacy>=3->spacy[ja]>=3->TTS) (8.3.4)\r\n",
      "Requirement already satisfied: wasabi<1.2.0,>=0.9.1 in /Users/dogukangundogan/Library/Caches/pypoetry/virtualenvs/nexai-backend-rybVfxlQ-py3.11/lib/python3.11/site-packages (from spacy>=3->spacy[ja]>=3->TTS) (1.1.3)\r\n",
      "Requirement already satisfied: srsly<3.0.0,>=2.4.3 in /Users/dogukangundogan/Library/Caches/pypoetry/virtualenvs/nexai-backend-rybVfxlQ-py3.11/lib/python3.11/site-packages (from spacy>=3->spacy[ja]>=3->TTS) (2.5.1)\r\n",
      "Requirement already satisfied: catalogue<2.1.0,>=2.0.6 in /Users/dogukangundogan/Library/Caches/pypoetry/virtualenvs/nexai-backend-rybVfxlQ-py3.11/lib/python3.11/site-packages (from spacy>=3->spacy[ja]>=3->TTS) (2.0.10)\r\n",
      "Requirement already satisfied: weasel<0.5.0,>=0.1.0 in /Users/dogukangundogan/Library/Caches/pypoetry/virtualenvs/nexai-backend-rybVfxlQ-py3.11/lib/python3.11/site-packages (from spacy>=3->spacy[ja]>=3->TTS) (0.4.1)\r\n",
      "Requirement already satisfied: typer<1.0.0,>=0.3.0 in /Users/dogukangundogan/Library/Caches/pypoetry/virtualenvs/nexai-backend-rybVfxlQ-py3.11/lib/python3.11/site-packages (from spacy>=3->spacy[ja]>=3->TTS) (0.9.4)\r\n",
      "Requirement already satisfied: requests<3.0.0,>=2.13.0 in /Users/dogukangundogan/Library/Caches/pypoetry/virtualenvs/nexai-backend-rybVfxlQ-py3.11/lib/python3.11/site-packages (from spacy>=3->spacy[ja]>=3->TTS) (2.32.3)\r\n",
      "Requirement already satisfied: pydantic!=1.8,!=1.8.1,<3.0.0,>=1.7.4 in /Users/dogukangundogan/Library/Caches/pypoetry/virtualenvs/nexai-backend-rybVfxlQ-py3.11/lib/python3.11/site-packages (from spacy>=3->spacy[ja]>=3->TTS) (2.10.6)\r\n",
      "Requirement already satisfied: setuptools in /Users/dogukangundogan/Library/Caches/pypoetry/virtualenvs/nexai-backend-rybVfxlQ-py3.11/lib/python3.11/site-packages (from spacy>=3->spacy[ja]>=3->TTS) (77.0.3)\r\n",
      "Requirement already satisfied: langcodes<4.0.0,>=3.2.0 in /Users/dogukangundogan/Library/Caches/pypoetry/virtualenvs/nexai-backend-rybVfxlQ-py3.11/lib/python3.11/site-packages (from spacy>=3->spacy[ja]>=3->TTS) (3.5.0)\r\n",
      "Requirement already satisfied: sudachipy!=0.6.1,>=0.5.2 in /Users/dogukangundogan/Library/Caches/pypoetry/virtualenvs/nexai-backend-rybVfxlQ-py3.11/lib/python3.11/site-packages (from spacy[ja]>=3->TTS) (0.6.10)\r\n",
      "Requirement already satisfied: sudachidict_core>=20211220 in /Users/dogukangundogan/Library/Caches/pypoetry/virtualenvs/nexai-backend-rybVfxlQ-py3.11/lib/python3.11/site-packages (from spacy[ja]>=3->TTS) (20250129)\r\n",
      "Requirement already satisfied: filelock in /Users/dogukangundogan/Library/Caches/pypoetry/virtualenvs/nexai-backend-rybVfxlQ-py3.11/lib/python3.11/site-packages (from torch>=2.1->TTS) (3.18.0)\r\n",
      "Requirement already satisfied: sympy==1.13.1 in /Users/dogukangundogan/Library/Caches/pypoetry/virtualenvs/nexai-backend-rybVfxlQ-py3.11/lib/python3.11/site-packages (from torch>=2.1->TTS) (1.13.1)\r\n",
      "Requirement already satisfied: mpmath<1.4,>=1.1.0 in /Users/dogukangundogan/Library/Caches/pypoetry/virtualenvs/nexai-backend-rybVfxlQ-py3.11/lib/python3.11/site-packages (from sympy==1.13.1->torch>=2.1->TTS) (1.3.0)\r\n",
      "Requirement already satisfied: psutil in /Users/dogukangundogan/Library/Caches/pypoetry/virtualenvs/nexai-backend-rybVfxlQ-py3.11/lib/python3.11/site-packages (from trainer>=0.0.32->TTS) (7.0.0)\r\n",
      "Requirement already satisfied: tensorboard in /Users/dogukangundogan/Library/Caches/pypoetry/virtualenvs/nexai-backend-rybVfxlQ-py3.11/lib/python3.11/site-packages (from trainer>=0.0.32->TTS) (2.19.0)\r\n",
      "Requirement already satisfied: huggingface-hub<1.0,>=0.26.0 in /Users/dogukangundogan/Library/Caches/pypoetry/virtualenvs/nexai-backend-rybVfxlQ-py3.11/lib/python3.11/site-packages (from transformers>=4.33.0->TTS) (0.29.3)\r\n",
      "Requirement already satisfied: regex!=2019.12.17 in /Users/dogukangundogan/Library/Caches/pypoetry/virtualenvs/nexai-backend-rybVfxlQ-py3.11/lib/python3.11/site-packages (from transformers>=4.33.0->TTS) (2024.11.6)\r\n",
      "Requirement already satisfied: tokenizers<0.22,>=0.21 in /Users/dogukangundogan/Library/Caches/pypoetry/virtualenvs/nexai-backend-rybVfxlQ-py3.11/lib/python3.11/site-packages (from transformers>=4.33.0->TTS) (0.21.1)\r\n",
      "Requirement already satisfied: safetensors>=0.4.1 in /Users/dogukangundogan/Library/Caches/pypoetry/virtualenvs/nexai-backend-rybVfxlQ-py3.11/lib/python3.11/site-packages (from transformers>=4.33.0->TTS) (0.5.3)\r\n",
      "Requirement already satisfied: pynndescent>=0.5 in /Users/dogukangundogan/Library/Caches/pypoetry/virtualenvs/nexai-backend-rybVfxlQ-py3.11/lib/python3.11/site-packages (from umap-learn>=0.5.1->TTS) (0.5.13)\r\n",
      "Requirement already satisfied: pycparser in /Users/dogukangundogan/Library/Caches/pypoetry/virtualenvs/nexai-backend-rybVfxlQ-py3.11/lib/python3.11/site-packages (from cffi>=1.0->soundfile>=0.12.0->TTS) (2.22)\r\n",
      "Requirement already satisfied: tzlocal in /Users/dogukangundogan/Library/Caches/pypoetry/virtualenvs/nexai-backend-rybVfxlQ-py3.11/lib/python3.11/site-packages (from dateparser~=1.1.0->gruut==2.2.3->gruut[de,es,fr]==2.2.3->TTS) (5.3.1)\r\n",
      "Requirement already satisfied: MarkupSafe>=2.0 in /Users/dogukangundogan/Library/Caches/pypoetry/virtualenvs/nexai-backend-rybVfxlQ-py3.11/lib/python3.11/site-packages (from Jinja2>=3.1.2->flask>=2.0.1->TTS) (3.0.2)\r\n",
      "Requirement already satisfied: six in /Users/dogukangundogan/Library/Caches/pypoetry/virtualenvs/nexai-backend-rybVfxlQ-py3.11/lib/python3.11/site-packages (from jsonlines~=1.2.0->gruut==2.2.3->gruut[de,es,fr]==2.2.3->TTS) (1.17.0)\r\n",
      "Requirement already satisfied: language-data>=1.2 in /Users/dogukangundogan/Library/Caches/pypoetry/virtualenvs/nexai-backend-rybVfxlQ-py3.11/lib/python3.11/site-packages (from langcodes<4.0.0,>=3.2.0->spacy>=3->spacy[ja]>=3->TTS) (1.3.0)\r\n",
      "Requirement already satisfied: platformdirs>=2.5.0 in /Users/dogukangundogan/Library/Caches/pypoetry/virtualenvs/nexai-backend-rybVfxlQ-py3.11/lib/python3.11/site-packages (from pooch>=1.1->librosa>=0.10.0->TTS) (4.3.7)\r\n",
      "Requirement already satisfied: annotated-types>=0.6.0 in /Users/dogukangundogan/Library/Caches/pypoetry/virtualenvs/nexai-backend-rybVfxlQ-py3.11/lib/python3.11/site-packages (from pydantic!=1.8,!=1.8.1,<3.0.0,>=1.7.4->spacy>=3->spacy[ja]>=3->TTS) (0.7.0)\r\n",
      "Requirement already satisfied: pydantic-core==2.27.2 in /Users/dogukangundogan/Library/Caches/pypoetry/virtualenvs/nexai-backend-rybVfxlQ-py3.11/lib/python3.11/site-packages (from pydantic!=1.8,!=1.8.1,<3.0.0,>=1.7.4->spacy>=3->spacy[ja]>=3->TTS) (2.27.2)\r\n",
      "Requirement already satisfied: charset-normalizer<4,>=2 in /Users/dogukangundogan/Library/Caches/pypoetry/virtualenvs/nexai-backend-rybVfxlQ-py3.11/lib/python3.11/site-packages (from requests<3.0.0,>=2.13.0->spacy>=3->spacy[ja]>=3->TTS) (3.4.1)\r\n",
      "Requirement already satisfied: idna<4,>=2.5 in /Users/dogukangundogan/Library/Caches/pypoetry/virtualenvs/nexai-backend-rybVfxlQ-py3.11/lib/python3.11/site-packages (from requests<3.0.0,>=2.13.0->spacy>=3->spacy[ja]>=3->TTS) (3.10)\r\n",
      "Requirement already satisfied: urllib3<3,>=1.21.1 in /Users/dogukangundogan/Library/Caches/pypoetry/virtualenvs/nexai-backend-rybVfxlQ-py3.11/lib/python3.11/site-packages (from requests<3.0.0,>=2.13.0->spacy>=3->spacy[ja]>=3->TTS) (2.3.0)\r\n",
      "Requirement already satisfied: certifi>=2017.4.17 in /Users/dogukangundogan/Library/Caches/pypoetry/virtualenvs/nexai-backend-rybVfxlQ-py3.11/lib/python3.11/site-packages (from requests<3.0.0,>=2.13.0->spacy>=3->spacy[ja]>=3->TTS) (2025.1.31)\r\n",
      "Requirement already satisfied: blis<1.3.0,>=1.2.0 in /Users/dogukangundogan/Library/Caches/pypoetry/virtualenvs/nexai-backend-rybVfxlQ-py3.11/lib/python3.11/site-packages (from thinc<8.4.0,>=8.3.4->spacy>=3->spacy[ja]>=3->TTS) (1.2.0)\r\n",
      "Requirement already satisfied: confection<1.0.0,>=0.0.1 in /Users/dogukangundogan/Library/Caches/pypoetry/virtualenvs/nexai-backend-rybVfxlQ-py3.11/lib/python3.11/site-packages (from thinc<8.4.0,>=8.3.4->spacy>=3->spacy[ja]>=3->TTS) (0.1.5)\r\n",
      "Requirement already satisfied: cloudpathlib<1.0.0,>=0.7.0 in /Users/dogukangundogan/Library/Caches/pypoetry/virtualenvs/nexai-backend-rybVfxlQ-py3.11/lib/python3.11/site-packages (from weasel<0.5.0,>=0.1.0->spacy>=3->spacy[ja]>=3->TTS) (0.21.0)\r\n",
      "Requirement already satisfied: smart-open<8.0.0,>=5.2.1 in /Users/dogukangundogan/Library/Caches/pypoetry/virtualenvs/nexai-backend-rybVfxlQ-py3.11/lib/python3.11/site-packages (from weasel<0.5.0,>=0.1.0->spacy>=3->spacy[ja]>=3->TTS) (7.1.0)\r\n",
      "Requirement already satisfied: absl-py>=0.4 in /Users/dogukangundogan/Library/Caches/pypoetry/virtualenvs/nexai-backend-rybVfxlQ-py3.11/lib/python3.11/site-packages (from tensorboard->trainer>=0.0.32->TTS) (2.1.0)\r\n",
      "Requirement already satisfied: grpcio>=1.48.2 in /Users/dogukangundogan/Library/Caches/pypoetry/virtualenvs/nexai-backend-rybVfxlQ-py3.11/lib/python3.11/site-packages (from tensorboard->trainer>=0.0.32->TTS) (1.71.0)\r\n",
      "Requirement already satisfied: markdown>=2.6.8 in /Users/dogukangundogan/Library/Caches/pypoetry/virtualenvs/nexai-backend-rybVfxlQ-py3.11/lib/python3.11/site-packages (from tensorboard->trainer>=0.0.32->TTS) (3.7)\r\n",
      "Requirement already satisfied: protobuf!=4.24.0,>=3.19.6 in /Users/dogukangundogan/Library/Caches/pypoetry/virtualenvs/nexai-backend-rybVfxlQ-py3.11/lib/python3.11/site-packages (from tensorboard->trainer>=0.0.32->TTS) (6.30.1)\r\n",
      "Requirement already satisfied: tensorboard-data-server<0.8.0,>=0.7.0 in /Users/dogukangundogan/Library/Caches/pypoetry/virtualenvs/nexai-backend-rybVfxlQ-py3.11/lib/python3.11/site-packages (from tensorboard->trainer>=0.0.32->TTS) (0.7.2)\r\n",
      "Requirement already satisfied: marisa-trie>=1.1.0 in /Users/dogukangundogan/Library/Caches/pypoetry/virtualenvs/nexai-backend-rybVfxlQ-py3.11/lib/python3.11/site-packages (from language-data>=1.2->langcodes<4.0.0,>=3.2.0->spacy>=3->spacy[ja]>=3->TTS) (1.2.1)\r\n",
      "Requirement already satisfied: wrapt in /Users/dogukangundogan/Library/Caches/pypoetry/virtualenvs/nexai-backend-rybVfxlQ-py3.11/lib/python3.11/site-packages (from smart-open<8.0.0,>=5.2.1->weasel<0.5.0,>=0.1.0->spacy>=3->spacy[ja]>=3->TTS) (1.17.2)\r\n",
      "Requirement already satisfied: simpleaudio in /Users/dogukangundogan/Library/Caches/pypoetry/virtualenvs/nexai-backend-rybVfxlQ-py3.11/lib/python3.11/site-packages (1.0.4)\r\n"
     ]
    }
   ],
   "execution_count": 12
  },
  {
   "cell_type": "code",
   "id": "699a0de98ed28c60",
   "metadata": {
    "scrolled": true,
    "ExecuteTime": {
     "end_time": "2025-03-20T22:25:52.294391Z",
     "start_time": "2025-03-20T22:25:27.692887Z"
    }
   },
   "source": [
    "import torch\n",
    "device = \"cuda\" if torch.cuda.is_available() else \"cpu\"\n",
    "print(TTS().list_models())\n",
    "torch.serialization.add_safe_globals([XttsArgs])\n",
    "# Initialize TTS with specific config\n",
    "tts = TTS(\"tts_models/multilingual/multi-dataset/xtts_v2\").to(device)"
   ],
   "outputs": [
    {
     "name": "stdout",
     "output_type": "stream",
     "text": [
      "<TTS.utils.manage.ModelManager object at 0x31b80de90>\n",
      " > tts_models/multilingual/multi-dataset/xtts_v2 is already downloaded.\n",
      " > Using model: xtts\n"
     ]
    }
   ],
   "execution_count": 14
  },
  {
   "cell_type": "code",
   "id": "7df316c9975e6354",
   "metadata": {
    "ExecuteTime": {
     "end_time": "2025-03-20T22:31:13.522215Z",
     "start_time": "2025-03-20T22:31:08.396413Z"
    }
   },
   "source": [
    "wav_path = \"output.wav\"\n",
    "tts.tts_to_file(text=\"Besiktas sampiyon!\", speaker_wav=\"./example_1.wav\", language=\"tr\", file_path=wav_path)\n",
    "# Play the generated WAV file\n",
    "wave_obj = sa.WaveObject.from_wave_file(wav_path)\n",
    "play_obj = wave_obj.play()\n",
    "play_obj.wait_done()"
   ],
   "outputs": [
    {
     "name": "stdout",
     "output_type": "stream",
     "text": [
      " > Text splitted to sentences.\n",
      "['Besiktas sampiyon!']\n",
      " > Processing time: 3.046649694442749\n",
      " > Real-time factor: 1.4413539684702756\n"
     ]
    }
   ],
   "execution_count": 18
  },
  {
   "metadata": {},
   "cell_type": "code",
   "outputs": [],
   "execution_count": null,
   "source": "",
   "id": "134b29709687bee3"
  }
 ],
 "metadata": {
  "kernelspec": {
   "display_name": "Python 3 (ipykernel)",
   "language": "python",
   "name": "python3"
  },
  "language_info": {
   "codemirror_mode": {
    "name": "ipython",
    "version": 3
   },
   "file_extension": ".py",
   "mimetype": "text/x-python",
   "name": "python",
   "nbconvert_exporter": "python",
   "pygments_lexer": "ipython3",
   "version": "3.11.11"
  }
 },
 "nbformat": 4,
 "nbformat_minor": 5
}
